{
  "cells": [
    {
      "cell_type": "markdown",
      "metadata": {
        "id": "view-in-github",
        "colab_type": "text"
      },
      "source": [
        "<a href=\"https://colab.research.google.com/github/anegaki/j/blob/main/Colab-WebUI.ipynb\" target=\"_parent\"><img src=\"https://colab.research.google.com/assets/colab-badge.svg\" alt=\"Open In Colab\"/></a>"
      ]
    },
    {
      "cell_type": "markdown",
      "metadata": {
        "id": "qtPofq5iVNAp"
      },
      "source": [
        "# GPT-SoVITS WebUI"
      ]
    },
    {
      "cell_type": "markdown",
      "metadata": {
        "id": "_o6a8GS2lWQM"
      },
      "source": [
        "## Env Setup (Run Once Only)\n",
        "## 环境配置, 只需运行一次"
      ]
    },
    {
      "cell_type": "markdown",
      "metadata": {
        "id": "t86kM7ZUVNAw"
      },
      "source": [
        "### 1."
      ]
    },
    {
      "cell_type": "code",
      "execution_count": null,
      "metadata": {
        "id": "tdi372vOVNAw"
      },
      "outputs": [],
      "source": [
        "%%writefile /content/setup.sh\n",
        "set -e\n",
        "\n",
        "cd /content\n",
        "\n",
        "git clone https://github.com/RVC-Boss/GPT-SoVITS.git\n",
        "\n",
        "cd GPT-SoVITS\n",
        "\n",
        "if conda env list | awk '{print $1}' | grep -Fxq \"GPTSoVITS\"; then\n",
        "    :\n",
        "else\n",
        "    conda create -n GPTSoVITS python=3.10 -y\n",
        "fi\n",
        "\n",
        "source activate GPTSoVITS\n",
        "\n",
        "pip install ipykernel\n",
        "\n",
        "bash install.sh --device CU126 --source HF --download-uvr5"
      ]
    },
    {
      "cell_type": "markdown",
      "metadata": {
        "id": "_okOc0xaVNAy"
      },
      "source": [
        "### 2."
      ]
    },
    {
      "cell_type": "code",
      "execution_count": null,
      "metadata": {
        "id": "bWY8w17VVNAz"
      },
      "outputs": [],
      "source": [
        "%pip install -q condacolab\n",
        "import condacolab\n",
        "condacolab.install_from_url(\"https://repo.anaconda.com/archive/Anaconda3-2024.10-1-Linux-x86_64.sh\")\n",
        "!cd /content && bash setup.sh"
      ]
    },
    {
      "cell_type": "markdown",
      "metadata": {
        "id": "-iuZeNLTVNAz"
      },
      "source": [
        "## Launch WebUI\n",
        "## 启动 WebUI"
      ]
    },
    {
      "cell_type": "code",
      "execution_count": null,
      "metadata": {
        "id": "4oRGUzkrk8C7",
        "outputId": "efd270f7-84a7-43e2-e947-27568462b2df",
        "colab": {
          "base_uri": "https://localhost:8080/"
        }
      },
      "outputs": [
        {
          "output_type": "stream",
          "name": "stdout",
          "text": [
            "/bin/bash: /usr/local/lib/libtinfo.so.6: no version information available (required by /bin/bash)\n",
            "Running on local URL:  http://0.0.0.0:9874\n",
            "Running on public URL: https://1bfb7988caafc46077.gradio.live\n",
            "\n",
            "This share link expires in 72 hours. For free permanent hosting and GPU upgrades, run `gradio deploy` from Terminal to deploy to Spaces (https://huggingface.co/spaces)\n",
            "\"/usr/local/envs/GPTSoVITS/bin/python\" -s tools/uvr5/webui.py \"cuda\" True 9873 True\n",
            "\"/usr/local/envs/GPTSoVITS/bin/python\" -s tools/cmd-denoise.py -i \"\" -o \"output/denoise_opt\" -p float16\n",
            "\"/usr/local/envs/GPTSoVITS/bin/python\" -s tools/asr/funasr_asr.py -i \"D:/GPT-SoVITS/raw/xxx\" -o \"output/asr_opt\" -s large -l zh -p float32\n",
            "Running on local URL:  http://0.0.0.0:9873\n",
            "\"/usr/local/envs/GPTSoVITS/bin/python\" -s tools/subfix_webui.py --load_list \"D:/RVC1006/GPT-SoVITS/raw/xxx.list\" --webui_port 9871 --is_share True\n",
            "Running on public URL: https://fe42ba7d4801e64dfe.gradio.live\n",
            "\n",
            "This share link expires in 72 hours. For free permanent hosting and GPU upgrades, run `gradio deploy` from Terminal to deploy to Spaces (https://huggingface.co/spaces)\n",
            "2025-06-02 11:12:32,421 - modelscope - INFO - PyTorch version 2.6.0+cu126 Found.\n",
            "2025-06-02 11:12:32,422 - modelscope - INFO - Loading ast index from /root/.cache/modelscope/ast_indexer\n",
            "2025-06-02 11:12:32,422 - modelscope - INFO - No valid ast index found from /root/.cache/modelscope/ast_indexer, generating ast index from prebuilt!\n",
            "2025-06-02 11:12:32,587 - modelscope - INFO - Loading done! Current index file version is 1.10.0, with md5 b2bed00efdc22079d62179254b8aa85b and a total number of 946 components indexed\n",
            "\"/usr/local/envs/GPTSoVITS/bin/python\" -s GPT_SoVITS/prepare_datasets/1-get-text.py\n",
            "\"/usr/local/envs/GPTSoVITS/bin/python\" -s GPT_SoVITS/prepare_datasets/1-get-text.py\n",
            "\"/usr/local/envs/GPTSoVITS/bin/python\" -s GPT_SoVITS/prepare_datasets/2-get-hubert-wav32k.py\n",
            "\"/usr/local/envs/GPTSoVITS/bin/python\" -s GPT_SoVITS/prepare_datasets/2-get-hubert-wav32k.py\n",
            "\"/usr/local/envs/GPTSoVITS/bin/python\" -s GPT_SoVITS/prepare_datasets/3-get-semantic.py\n",
            "\"/usr/local/envs/GPTSoVITS/bin/python\" -s GPT_SoVITS/prepare_datasets/3-get-semantic.py\n",
            "\"/usr/local/envs/GPTSoVITS/bin/python\" -s GPT_SoVITS/prepare_datasets/1-get-text.py\n",
            "\"/usr/local/envs/GPTSoVITS/bin/python\" -s GPT_SoVITS/prepare_datasets/1-get-text.py\n",
            "Traceback (most recent call last):\n",
            "  File \"/content/GPT-SoVITS/tools/subfix_webui.py\", line 308, in <module>\n",
            "    set_global(args.load_json, args.load_list, args.json_key_text, args.json_key_path, args.g_batch)\n",
            "  File \"/content/GPT-SoVITS/tools/subfix_webui.py\", line 293, in set_global\n",
            "    b_load_file()\n",
            "  File \"/content/GPT-SoVITS/tools/subfix_webui.py\", line 272, in b_load_file\n",
            "    b_load_list()\n",
            "  File \"/content/GPT-SoVITS/tools/subfix_webui.py\", line 247, in b_load_list\n",
            "    with open(g_load_file, \"r\", encoding=\"utf-8\") as source:\n",
            "FileNotFoundError: [Errno 2] No such file or directory: 'D:/RVC1006/GPT-SoVITS/raw/xxx.list'\n",
            "2025-06-02 11:13:02,113 - modelscope - WARNING - Model revision not specified, use revision: v1.0.2\n",
            "Downloading: 100% 1.45k/1.45k [00:00<00:00, 5.73MB/s]\n",
            "Downloading: 100% 903/903 [00:00<00:00, 4.23MB/s]\n",
            "Downloading: 100% 177k/177k [00:00<00:00, 520kB/s]\n",
            "Downloading: 100% 88.2k/88.2k [00:00<00:00, 356kB/s]\n",
            "Downloading:  87% 48.0M/55.3M [00:09<00:01, 5.17MB/s]Traceback (most recent call last):\n",
            "  File \"/content/GPT-SoVITS/tools/asr/funasr_asr.py\", line 113, in <module>\n",
            "    execute_asr(\n",
            "  File \"/content/GPT-SoVITS/tools/asr/funasr_asr.py\", line 72, in execute_asr\n",
            "    input_file_names = os.listdir(input_folder)\n",
            "FileNotFoundError: [Errno 2] No such file or directory: 'D:/GPT-SoVITS/raw/xxx'\n",
            "Downloading: 100% 55.3M/55.3M [00:11<00:00, 5.12MB/s]\n",
            "Downloading: 100% 12.8k/12.8k [00:00<00:00, 39.3MB/s]\n",
            "Downloading: 100% 75.0k/75.0k [00:00<00:00, 605kB/s]\n",
            "Downloading: 100% 152k/152k [00:00<00:00, 1.07MB/s]\n",
            "2025-06-02 11:13:22,309 - modelscope - INFO - initiate model from /root/.cache/modelscope/hub/damo/speech_frcrn_ans_cirm_16k\n",
            "2025-06-02 11:13:22,309 - modelscope - INFO - initiate model from location /root/.cache/modelscope/hub/damo/speech_frcrn_ans_cirm_16k.\n",
            "2025-06-02 11:13:22,317 - modelscope - INFO - initialize model from /root/.cache/modelscope/hub/damo/speech_frcrn_ans_cirm_16k\n",
            "2025-06-02 11:13:28,928 - modelscope - WARNING - No preprocessor field found in cfg.\n",
            "2025-06-02 11:13:28,929 - modelscope - WARNING - No val key and type key found in preprocessor domain of configuration.json file.\n",
            "2025-06-02 11:13:28,929 - modelscope - WARNING - Cannot find available config to build preprocessor at mode inference, current config: {'model_dir': '/root/.cache/modelscope/hub/damo/speech_frcrn_ans_cirm_16k'}. trying to build by task and model information.\n",
            "2025-06-02 11:13:28,929 - modelscope - WARNING - No preprocessor key ('speech_frcrn_ans_cirm_16k', 'acoustic-noise-suppression') found in PREPROCESSOR_MAP, skip building preprocessor.\n",
            "Traceback (most recent call last):\n",
            "  File \"/content/GPT-SoVITS/tools/cmd-denoise.py\", line 35, in <module>\n",
            "    execute_denoise(\n",
            "  File \"/content/GPT-SoVITS/tools/cmd-denoise.py\", line 18, in execute_denoise\n",
            "    for name in tqdm(os.listdir(input_folder)):\n",
            "FileNotFoundError: [Errno 2] No such file or directory: ''\n",
            "Traceback (most recent call last):\n",
            "  File \"/content/GPT-SoVITS/GPT_SoVITS/prepare_datasets/2-get-hubert-wav32k.py\", line 108, in <module>\n",
            "    with open(inp_text, \"r\", encoding=\"utf8\") as f:\n",
            "FileNotFoundError: [Errno 2] No such file or directory: 'D:/RVC1006/GPT-SoVITS/raw/xxx.list'\n",
            "Traceback (most recent call last):\n",
            "  File \"/content/GPT-SoVITS/GPT_SoVITS/prepare_datasets/2-get-hubert-wav32k.py\", line 108, in <module>\n",
            "    with open(inp_text, \"r\", encoding=\"utf8\") as f:\n",
            "FileNotFoundError: [Errno 2] No such file or directory: 'D:/RVC1006/GPT-SoVITS/raw/xxx.list'\n",
            "<All keys matched successfully>\n",
            "Traceback (most recent call last):\n",
            "  File \"/content/GPT-SoVITS/GPT_SoVITS/prepare_datasets/3-get-semantic.py\", line 102, in <module>\n",
            "    with open(inp_text, \"r\", encoding=\"utf8\") as f:\n",
            "FileNotFoundError: [Errno 2] No such file or directory: 'D:/RVC1006/GPT-SoVITS/raw/xxx.list'\n",
            "<All keys matched successfully>\n",
            "Traceback (most recent call last):\n",
            "  File \"/content/GPT-SoVITS/GPT_SoVITS/prepare_datasets/3-get-semantic.py\", line 102, in <module>\n",
            "    with open(inp_text, \"r\", encoding=\"utf8\") as f:\n",
            "FileNotFoundError: [Errno 2] No such file or directory: 'D:/RVC1006/GPT-SoVITS/raw/xxx.list'\n",
            "Traceback (most recent call last):\n",
            "  File \"/content/GPT-SoVITS/GPT_SoVITS/prepare_datasets/1-get-text.py\", line 107, in <module>\n",
            "    with open(inp_text, \"r\", encoding=\"utf8\") as f:\n",
            "FileNotFoundError: [Errno 2] No such file or directory: 'D:/RVC1006/GPT-SoVITS/raw/xxx.list'\n",
            "Traceback (most recent call last):\n",
            "  File \"/content/GPT-SoVITS/GPT_SoVITS/prepare_datasets/1-get-text.py\", line 107, in <module>\n",
            "    with open(inp_text, \"r\", encoding=\"utf8\") as f:\n",
            "FileNotFoundError: [Errno 2] No such file or directory: 'D:/RVC1006/GPT-SoVITS/raw/xxx.list'\n",
            "Traceback (most recent call last):\n",
            "  File \"/content/GPT-SoVITS/GPT_SoVITS/prepare_datasets/1-get-text.py\", line 107, in <module>\n",
            "    with open(inp_text, \"r\", encoding=\"utf8\") as f:\n",
            "FileNotFoundError: [Errno 2] No such file or directory: 'D:/RVC1006/GPT-SoVITS/raw/xxx.list'\n",
            "Traceback (most recent call last):\n",
            "  File \"/content/GPT-SoVITS/GPT_SoVITS/prepare_datasets/1-get-text.py\", line 107, in <module>\n",
            "    with open(inp_text, \"r\", encoding=\"utf8\") as f:\n",
            "FileNotFoundError: [Errno 2] No such file or directory: 'D:/RVC1006/GPT-SoVITS/raw/xxx.list'\n",
            "Traceback (most recent call last):\n",
            "  File \"/usr/local/envs/GPTSoVITS/lib/python3.10/site-packages/gradio/queueing.py\", line 575, in process_events\n",
            "    response = await route_utils.call_process_api(\n",
            "  File \"/usr/local/envs/GPTSoVITS/lib/python3.10/site-packages/gradio/route_utils.py\", line 322, in call_process_api\n",
            "    output = await app.get_blocks().process_api(\n",
            "  File \"/usr/local/envs/GPTSoVITS/lib/python3.10/site-packages/gradio/blocks.py\", line 1935, in process_api\n",
            "    result = await self.call_function(\n",
            "  File \"/usr/local/envs/GPTSoVITS/lib/python3.10/site-packages/gradio/blocks.py\", line 1532, in call_function\n",
            "    prediction = await utils.async_iteration(iterator)\n",
            "  File \"/usr/local/envs/GPTSoVITS/lib/python3.10/site-packages/gradio/utils.py\", line 671, in async_iteration\n",
            "    return await iterator.__anext__()\n",
            "  File \"/usr/local/envs/GPTSoVITS/lib/python3.10/site-packages/gradio/utils.py\", line 664, in __anext__\n",
            "    return await anyio.to_thread.run_sync(\n",
            "  File \"/usr/local/envs/GPTSoVITS/lib/python3.10/site-packages/anyio/to_thread.py\", line 56, in run_sync\n",
            "    return await get_async_backend().run_sync_in_worker_thread(\n",
            "  File \"/usr/local/envs/GPTSoVITS/lib/python3.10/site-packages/anyio/_backends/_asyncio.py\", line 2470, in run_sync_in_worker_thread\n",
            "    return await future\n",
            "  File \"/usr/local/envs/GPTSoVITS/lib/python3.10/site-packages/anyio/_backends/_asyncio.py\", line 967, in run\n",
            "    result = context.run(func, *args)\n",
            "  File \"/usr/local/envs/GPTSoVITS/lib/python3.10/site-packages/gradio/utils.py\", line 647, in run_sync_iterator_async\n",
            "    return next(iterator)\n",
            "  File \"/usr/local/envs/GPTSoVITS/lib/python3.10/site-packages/gradio/utils.py\", line 809, in gen_wrapper\n",
            "    response = next(iterator)\n",
            "  File \"/content/GPT-SoVITS/webui.py\", line 1084, in open1c\n",
            "    with open(semantic_path, \"r\", encoding=\"utf8\") as f:\n",
            "FileNotFoundError: [Errno 2] No such file or directory: 'logs/xxx/6-name2semantic-0.tsv'\n",
            "Traceback (most recent call last):\n",
            "  File \"/content/GPT-SoVITS/webui.py\", line 1182, in open1abc\n",
            "    with open(txt_path, \"r\", encoding=\"utf8\") as f:\n",
            "FileNotFoundError: [Errno 2] No such file or directory: 'logs/xxx/2-name2text-0.txt'\n",
            "Training Set One-Click Formatting Process Terminated\n",
            "Training Set One-Click Formatting Process Terminated\n",
            "Traceback (most recent call last):\n",
            "  File \"/usr/local/envs/GPTSoVITS/lib/python3.10/site-packages/gradio/queueing.py\", line 575, in process_events\n",
            "    response = await route_utils.call_process_api(\n",
            "  File \"/usr/local/envs/GPTSoVITS/lib/python3.10/site-packages/gradio/route_utils.py\", line 322, in call_process_api\n",
            "    output = await app.get_blocks().process_api(\n",
            "  File \"/usr/local/envs/GPTSoVITS/lib/python3.10/site-packages/gradio/blocks.py\", line 1935, in process_api\n",
            "    result = await self.call_function(\n",
            "  File \"/usr/local/envs/GPTSoVITS/lib/python3.10/site-packages/gradio/blocks.py\", line 1532, in call_function\n",
            "    prediction = await utils.async_iteration(iterator)\n",
            "  File \"/usr/local/envs/GPTSoVITS/lib/python3.10/site-packages/gradio/utils.py\", line 671, in async_iteration\n",
            "    return await iterator.__anext__()\n",
            "  File \"/usr/local/envs/GPTSoVITS/lib/python3.10/site-packages/gradio/utils.py\", line 664, in __anext__\n",
            "    return await anyio.to_thread.run_sync(\n",
            "  File \"/usr/local/envs/GPTSoVITS/lib/python3.10/site-packages/anyio/to_thread.py\", line 56, in run_sync\n",
            "    return await get_async_backend().run_sync_in_worker_thread(\n",
            "  File \"/usr/local/envs/GPTSoVITS/lib/python3.10/site-packages/anyio/_backends/_asyncio.py\", line 2470, in run_sync_in_worker_thread\n",
            "    return await future\n",
            "  File \"/usr/local/envs/GPTSoVITS/lib/python3.10/site-packages/anyio/_backends/_asyncio.py\", line 967, in run\n",
            "    result = context.run(func, *args)\n",
            "  File \"/usr/local/envs/GPTSoVITS/lib/python3.10/site-packages/gradio/utils.py\", line 647, in run_sync_iterator_async\n",
            "    return next(iterator)\n",
            "  File \"/usr/local/envs/GPTSoVITS/lib/python3.10/site-packages/gradio/utils.py\", line 809, in gen_wrapper\n",
            "    response = next(iterator)\n",
            "  File \"/content/GPT-SoVITS/webui.py\", line 925, in open1a\n",
            "    with open(txt_path, \"r\", encoding=\"utf8\") as f:\n",
            "FileNotFoundError: [Errno 2] No such file or directory: 'logs/xxx/2-name2text-0.txt'\n"
          ]
        }
      ],
      "source": [
        "!cd /content/GPT-SoVITS && source activate GPTSoVITS && export is_share=True && python webui.py"
      ]
    }
  ],
  "metadata": {
    "accelerator": "GPU",
    "colab": {
      "provenance": [],
      "include_colab_link": true
    },
    "kernelspec": {
      "display_name": "Python 3",
      "name": "python3"
    }
  },
  "nbformat": 4,
  "nbformat_minor": 0
}